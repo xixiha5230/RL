{
 "cells": [
  {
   "cell_type": "code",
   "execution_count": 1,
   "metadata": {},
   "outputs": [],
   "source": [
    "import torch\n",
    "import gym\n",
    "from dqn import Model\n",
    "# import numpy\n",
    "\n",
    "env = gym.make(\"CartPole-v1\")\n",
    "# model = Model(env.observation_space.shape[0], env.action_space.n, 0.01)\n",
    "model = torch.load('./model/709420.pth')"
   ]
  },
  {
   "cell_type": "code",
   "execution_count": 3,
   "metadata": {},
   "outputs": [
    {
     "name": "stdout",
     "output_type": "stream",
     "text": [
      "reward: 4000.0\n"
     ]
    }
   ],
   "source": [
    "import time\n",
    "import numpy\n",
    "\n",
    "obs = env.reset()\n",
    "env._max_episode_steps = 4000\n",
    "\n",
    "#加点随机比较好玩\n",
    "random = 0.3\n",
    "total_reward = 0\n",
    "while True:\n",
    "    if numpy.random.uniform(0, 1) < random:\n",
    "        action = env.action_space.sample()\n",
    "    else:\n",
    "        action = model(torch.Tensor(obs)).max(-1)[-1].item()\n",
    "    n_obs, reward, done, _ = env.step(action)\n",
    "    total_reward += reward\n",
    "    env.render()\n",
    "    obs = n_obs\n",
    "    time.sleep(0.01)\n",
    "\n",
    "    if done:\n",
    "        print(\"reward:\", total_reward)\n",
    "        break"
   ]
  }
 ],
 "metadata": {
  "interpreter": {
   "hash": "36d8133ab4a2ce891887647baac6279a0e86d2d433df537281237525b15307b0"
  },
  "kernelspec": {
   "display_name": "Python 3.8.10 64-bit ('venv': venv)",
   "language": "python",
   "name": "python3"
  },
  "language_info": {
   "codemirror_mode": {
    "name": "ipython",
    "version": 3
   },
   "file_extension": ".py",
   "mimetype": "text/x-python",
   "name": "python",
   "nbconvert_exporter": "python",
   "pygments_lexer": "ipython3",
   "version": "3.8.10"
  },
  "orig_nbformat": 4
 },
 "nbformat": 4,
 "nbformat_minor": 2
}
