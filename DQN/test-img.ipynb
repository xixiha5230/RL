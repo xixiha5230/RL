{
 "cells": [
  {
   "cell_type": "code",
   "execution_count": 1,
   "metadata": {},
   "outputs": [
    {
     "name": "stderr",
     "output_type": "stream",
     "text": [
      "A.L.E: Arcade Learning Environment (version +978d2ce)\n",
      "[Powered by Stella]\n"
     ]
    }
   ],
   "source": [
    "import torch\n",
    "import gym\n",
    "from dqn_img import ConvModel\n",
    "from utils import FrameStackingAndResizingEnv\n",
    "# import numpy\n",
    "\n",
    "env = gym.make(\"Breakout-v0\")\n",
    "env = FrameStackingAndResizingEnv(env, 84, 84)\n",
    "# model = Model(env.observation_space.shape[0], env.action_space.n, 0.01)\n",
    "model = torch.load('./model/35820.pth')"
   ]
  },
  {
   "cell_type": "code",
   "execution_count": 2,
   "metadata": {},
   "outputs": [
    {
     "name": "stderr",
     "output_type": "stream",
     "text": [
      "/home/xixiha/RL/venv/lib/python3.8/site-packages/gym/envs/atari/environment.py:255: UserWarning: \u001b[33mWARN: We strongly suggest supplying `render_mode` when constructing your environment, e.g., gym.make(ID, render_mode='human'). Using `render_mode` provides access to proper scaling, audio support, and proper framerates.\u001b[0m\n",
      "  logger.warn(\n"
     ]
    }
   ],
   "source": [
    "import time\n",
    "import numpy\n",
    "\n",
    "obs = env.reset()\n",
    "env._max_episode_steps = 4000\n",
    "\n",
    "total_reward = 0\n",
    "env.step(1)\n",
    "while True:\n",
    "    action = model(torch.Tensor(obs).unsqueeze(0)).max(-1)[-1].item()\n",
    "    n_obs, reward, done, _ = env.step(action)\n",
    "    total_reward += reward\n",
    "    env.render()\n",
    "    obs = n_obs\n",
    "    time.sleep(0.1)\n",
    "\n",
    "    if done:\n",
    "        print(\"reward:\", total_reward)\n",
    "        break"
   ]
  }
 ],
 "metadata": {
  "interpreter": {
   "hash": "36d8133ab4a2ce891887647baac6279a0e86d2d433df537281237525b15307b0"
  },
  "kernelspec": {
   "display_name": "Python 3.8.10 64-bit ('venv': venv)",
   "language": "python",
   "name": "python3"
  },
  "language_info": {
   "codemirror_mode": {
    "name": "ipython",
    "version": 3
   },
   "file_extension": ".py",
   "mimetype": "text/x-python",
   "name": "python",
   "nbconvert_exporter": "python",
   "pygments_lexer": "ipython3",
   "version": "3.8.10"
  },
  "orig_nbformat": 4
 },
 "nbformat": 4,
 "nbformat_minor": 2
}
