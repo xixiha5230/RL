{
 "cells": [
  {
   "cell_type": "code",
   "execution_count": 1,
   "metadata": {},
   "outputs": [
    {
     "name": "stdout",
     "output_type": "stream",
     "text": [
      "... loading models ...\n"
     ]
    }
   ],
   "source": [
    "import torch\n",
    "import gym\n",
    "from ppo import Agent\n",
    "# import numpy\n",
    "\n",
    "env = gym.make(\"CartPole-v0\")\n",
    "\n",
    "agent = Agent(env.action_space.n, env.observation_space.shape)\n",
    "agent.load_models('chkpt/actor','chkpt/critic')\n"
   ]
  },
  {
   "cell_type": "code",
   "execution_count": 6,
   "metadata": {},
   "outputs": [
    {
     "name": "stdout",
     "output_type": "stream",
     "text": [
      "reward: 426.0\n"
     ]
    }
   ],
   "source": [
    "import time\n",
    "import numpy\n",
    "\n",
    "obs = env.reset()\n",
    "\n",
    "total_reward = 0\n",
    "last_action = 1\n",
    "counter = 0\n",
    "env._max_episode_steps = 4000\n",
    "while True:\n",
    "    action, _, _ = agent.choose_action(obs)\n",
    "    # print(action)\n",
    "    if last_action == action:\n",
    "        counter += 1\n",
    "        if counter % 100 == 0:\n",
    "            counter = 0\n",
    "            action = 1\n",
    "    else:\n",
    "        counter = 0\n",
    "    last_action = action\n",
    "    n_obs, reward, done, _ = env.step(action)\n",
    "    total_reward += reward\n",
    "    env.render()\n",
    "    time.sleep(0.01)\n",
    "    obs = n_obs\n",
    "    if done:\n",
    "        print(\"reward:\", total_reward)\n",
    "        break"
   ]
  }
 ],
 "metadata": {
  "interpreter": {
   "hash": "36d8133ab4a2ce891887647baac6279a0e86d2d433df537281237525b15307b0"
  },
  "kernelspec": {
   "display_name": "Python 3.8.10 64-bit ('venv': venv)",
   "language": "python",
   "name": "python3"
  },
  "language_info": {
   "codemirror_mode": {
    "name": "ipython",
    "version": 3
   },
   "file_extension": ".py",
   "mimetype": "text/x-python",
   "name": "python",
   "nbconvert_exporter": "python",
   "pygments_lexer": "ipython3",
   "version": "3.8.10"
  },
  "orig_nbformat": 4
 },
 "nbformat": 4,
 "nbformat_minor": 2
}
