{
 "cells": [
  {
   "cell_type": "code",
   "execution_count": null,
   "metadata": {},
   "outputs": [],
   "source": [
    "import torch\n",
    "import gym\n",
    "from dqn_img import ConvModel\n",
    "from utils import FrameStackingAndResizingEnv\n",
    "# import numpy\n",
    "\n",
    "env = gym.make(\"Breakout-v0\")\n",
    "env = FrameStackingAndResizingEnv(env, 84, 84)\n",
    "# model = Model(env.observation_space.shape[0], env.action_space.n, 0.01)\n",
    "model = torch.load('./breakout.pth')"
   ]
  },
  {
   "cell_type": "code",
   "execution_count": null,
   "metadata": {},
   "outputs": [],
   "source": [
    "import time\n",
    "import numpy\n",
    "\n",
    "obs = env.reset()\n",
    "\n",
    "total_reward = 0\n",
    "env.step(1)\n",
    "last_action = 1\n",
    "counter = 0\n",
    "while True:\n",
    "    action = model(torch.Tensor(obs).unsqueeze(0)).max(-1)[-1].item()\n",
    "    # print(action)\n",
    "    if last_action == action:\n",
    "        counter += 1\n",
    "        if counter % 100 == 0:\n",
    "            counter = 0\n",
    "            action = 1\n",
    "    else:\n",
    "        counter = 0\n",
    "    last_action = action\n",
    "    n_obs, reward, done, _ = env.step(action)\n",
    "    total_reward += reward\n",
    "    env.render()\n",
    "    time.sleep(0.01)\n",
    "    obs = n_obs\n",
    "    if done:\n",
    "        print(\"reward:\", total_reward)\n",
    "        break"
   ]
  }
 ],
 "metadata": {
  "interpreter": {
   "hash": "36d8133ab4a2ce891887647baac6279a0e86d2d433df537281237525b15307b0"
  },
  "kernelspec": {
   "display_name": "Python 3.8.10 64-bit ('venv': venv)",
   "language": "python",
   "name": "python3"
  },
  "language_info": {
   "codemirror_mode": {
    "name": "ipython",
    "version": 3
   },
   "file_extension": ".py",
   "mimetype": "text/x-python",
   "name": "python",
   "nbconvert_exporter": "python",
   "pygments_lexer": "ipython3",
   "version": "3.8.10"
  },
  "orig_nbformat": 4
 },
 "nbformat": 4,
 "nbformat_minor": 2
}
